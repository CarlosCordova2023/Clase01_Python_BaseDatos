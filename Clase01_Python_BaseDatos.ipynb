{
  "nbformat": 4,
  "nbformat_minor": 0,
  "metadata": {
    "colab": {
      "provenance": [],
      "authorship_tag": "ABX9TyP9S164xXwOJ0jhxSO5C/DE",
      "include_colab_link": true
    },
    "kernelspec": {
      "name": "python3",
      "display_name": "Python 3"
    },
    "language_info": {
      "name": "python"
    }
  },
  "cells": [
    {
      "cell_type": "markdown",
      "metadata": {
        "id": "view-in-github",
        "colab_type": "text"
      },
      "source": [
        "<a href=\"https://colab.research.google.com/github/CarlosCordova2023/Clase01_Python_BaseDatos/blob/main/Clase01_Python_BaseDatos.ipynb\" target=\"_parent\"><img src=\"https://colab.research.google.com/assets/colab-badge.svg\" alt=\"Open In Colab\"/></a>"
      ]
    },
    {
      "cell_type": "code",
      "execution_count": null,
      "metadata": {
        "id": "3BMI6tysFtwp"
      },
      "outputs": [],
      "source": [
        "x = 10  # Entero\n",
        "pi = 3.14  # Flotante\n",
        "mensaje = \"Hola, Python\"  # Cadena\n",
        "es_verdad = True  # Booleano\n"
      ]
    },
    {
      "cell_type": "code",
      "source": [
        "a = 10\n",
        "b = 5\n",
        "resultado = a + b  # Suma\n",
        "comparacion = a > b  # Comparación, devuelve True\n"
      ],
      "metadata": {
        "id": "Qm51d5s7LpfT"
      },
      "execution_count": null,
      "outputs": []
    },
    {
      "cell_type": "code",
      "source": [
        "lista = [1, 2, 3, \"Python\"]"
      ],
      "metadata": {
        "id": "DTHVXJiILsvK"
      },
      "execution_count": null,
      "outputs": []
    },
    {
      "cell_type": "code",
      "source": [
        "diccionario = {\"nombre\": \"Carlos\", \"edad\": 30}\n"
      ],
      "metadata": {
        "id": "W1JqVyj9L0lK"
      },
      "execution_count": null,
      "outputs": []
    },
    {
      "cell_type": "code",
      "source": [
        "conjunto = {1, 2, 3, 3, 4}  # Los duplicados son eliminados\n"
      ],
      "metadata": {
        "id": "Auh6SMkYL3MK"
      },
      "execution_count": null,
      "outputs": []
    },
    {
      "cell_type": "code",
      "source": [
        "import csv\n",
        "\n",
        "with open('datos.csv', mode='r') as archivo:\n",
        "    lector = csv.reader(archivo)\n",
        "    for fila in lector:\n",
        "        print(fila)\n"
      ],
      "metadata": {
        "id": "tV4gl2paMFSJ"
      },
      "execution_count": null,
      "outputs": []
    },
    {
      "cell_type": "code",
      "source": [
        "with open('resultado.csv', mode='w', newline='') as archivo:\n",
        "    escritor = csv.writer(archivo)\n",
        "    escritor.writerow([\"Nombre\", \"Edad\"])\n",
        "    escritor.writerow([\"Carlos\", 30])\n"
      ],
      "metadata": {
        "id": "6jUpG0pkOxbt"
      },
      "execution_count": null,
      "outputs": []
    },
    {
      "cell_type": "code",
      "source": [
        "a = 10\n",
        "b = 5\n",
        "print(a + b)  # Suma\n",
        "print(a > b)  # Comparación\n"
      ],
      "metadata": {
        "colab": {
          "base_uri": "https://localhost:8080/"
        },
        "id": "dxLcTJt7QJoh",
        "outputId": "f035694b-551c-46cd-ab35-abb073b9bf28"
      },
      "execution_count": null,
      "outputs": [
        {
          "output_type": "stream",
          "name": "stdout",
          "text": [
            "15\n",
            "True\n"
          ]
        }
      ]
    },
    {
      "cell_type": "code",
      "source": [
        "lista = [1, 2, 3, \"Python\"]\n",
        "diccionario = {\"nombre\": \"Carlos\", \"edad\": 30}\n",
        "conjunto = {1, 2, 3, 2, 4}  # Elimina duplicados\n",
        "print(conjunto)\n",
        "print(lista)\n",
        "print(diccionario)\n",
        "\n"
      ],
      "metadata": {
        "colab": {
          "base_uri": "https://localhost:8080/"
        },
        "id": "DeRf8OtIQpXq",
        "outputId": "278c0e2c-b1f4-4622-cb9e-348c53cb5255"
      },
      "execution_count": null,
      "outputs": [
        {
          "output_type": "stream",
          "name": "stdout",
          "text": [
            "{1, 2, 3, 4}\n",
            "[1, 2, 3, 'Python']\n",
            "{'nombre': 'Carlos', 'edad': 30}\n"
          ]
        }
      ]
    },
    {
      "cell_type": "code",
      "source": [
        "import csv\n",
        "\n",
        "# Leer datos desde un archivo CSV\n",
        "with open('datos.csv', mode='r') as archivo:\n",
        "    lector = csv.reader(archivo)\n",
        "    encabezados = next(lector)  # Saltar la primera fila (encabezados)\n",
        "    datos_filtrados = [fila for fila in lector if int(fila[1]) > 20]  # Filtrar filas donde la edad es mayor a 20\n",
        "\n",
        "# Guardar datos filtrados en un nuevo archivo CSV\n",
        "with open('resultado.csv', mode='w', newline='') as archivo:\n",
        "    escritor = csv.writer(archivo)\n",
        "    escritor.writerow(encabezados)  # Escribir los encabezados\n",
        "    escritor.writerows(datos_filtrados)\n"
      ],
      "metadata": {
        "id": "d5JlvyEWUMNY"
      },
      "execution_count": null,
      "outputs": []
    },
    {
      "cell_type": "code",
      "source": [
        "# Datos de presupuestos por unidad (en millones de pesos chilenos)\n",
        "presupuestos = [1200, 1500, 1000, 800, 950]\n",
        "\n",
        "# Calcular el presupuesto total y el promedio\n",
        "presupuesto_total = sum(presupuestos)\n",
        "promedio = presupuesto_total / len(presupuestos)\n",
        "\n",
        "print(f\"Presupuesto total: {presupuesto_total} millones\")\n",
        "print(f\"Promedio de asignación por unidad: {promedio:.2f} millones\")\n",
        "\n",
        "# Identificar unidades con presupuesto superior o inferior al promedio\n",
        "for i, presupuesto in enumerate(presupuestos):\n",
        "    if presupuesto > promedio:\n",
        "        print(f\"Unidad {i+1} tiene un presupuesto superior al promedio ({presupuesto} millones)\")\n",
        "    else:\n",
        "        print(f\"Unidad {i+1} tiene un presupuesto inferior al promedio ({presupuesto} millones)\")\n"
      ],
      "metadata": {
        "colab": {
          "base_uri": "https://localhost:8080/"
        },
        "id": "fW5lfUBLWxtD",
        "outputId": "54609cf6-f802-4bf5-b0e4-52909b33d631"
      },
      "execution_count": null,
      "outputs": [
        {
          "output_type": "stream",
          "name": "stdout",
          "text": [
            "Presupuesto total: 5450 millones\n",
            "Promedio de asignación por unidad: 1090.00 millones\n",
            "Unidad 1 tiene un presupuesto superior al promedio (1200 millones)\n",
            "Unidad 2 tiene un presupuesto superior al promedio (1500 millones)\n",
            "Unidad 3 tiene un presupuesto inferior al promedio (1000 millones)\n",
            "Unidad 4 tiene un presupuesto inferior al promedio (800 millones)\n",
            "Unidad 5 tiene un presupuesto inferior al promedio (950 millones)\n"
          ]
        }
      ]
    },
    {
      "cell_type": "code",
      "source": [
        "# Datos de gastos trimestrales por departamento (en millones)\n",
        "gastos_trimestrales = {\n",
        "    \"Depto_Finanzas\": [500, 520, 530, 510],\n",
        "    \"Depto_Administracion\": [400, 450, 420, 460],\n",
        "    \"Depto_Tecnologia\": [300, 320, 310, 330]\n",
        "}\n",
        "\n",
        "# Comparar gastos trimestre a trimestre\n",
        "for depto, gastos in gastos_trimestrales.items():\n",
        "    print(f\"Comparación de gastos para {depto}:\")\n",
        "    for i in range(1, len(gastos)):\n",
        "        if gastos[i] > gastos[i-1]:\n",
        "            print(f\"Trimestre {i+1}: Aumento de {gastos[i] - gastos[i-1]} millones\")\n",
        "        else:\n",
        "            print(f\"Trimestre {i+1}: Disminución de {gastos[i-1] - gastos[i]} millones\")\n"
      ],
      "metadata": {
        "colab": {
          "base_uri": "https://localhost:8080/"
        },
        "id": "WUHr2TR6aCMF",
        "outputId": "de10a344-21fc-4202-a7d7-8c9a5d786004"
      },
      "execution_count": null,
      "outputs": [
        {
          "output_type": "stream",
          "name": "stdout",
          "text": [
            "Comparación de gastos para Depto_Finanzas:\n",
            "Trimestre 2: Aumento de 20 millones\n",
            "Trimestre 3: Aumento de 10 millones\n",
            "Trimestre 4: Disminución de 20 millones\n",
            "Comparación de gastos para Depto_Administracion:\n",
            "Trimestre 2: Aumento de 50 millones\n",
            "Trimestre 3: Disminución de 30 millones\n",
            "Trimestre 4: Aumento de 40 millones\n",
            "Comparación de gastos para Depto_Tecnologia:\n",
            "Trimestre 2: Aumento de 20 millones\n",
            "Trimestre 3: Disminución de 10 millones\n",
            "Trimestre 4: Aumento de 20 millones\n"
          ]
        }
      ]
    },
    {
      "cell_type": "code",
      "source": [
        "import csv\n",
        "\n",
        "# Datos de empleados y sus puntajes de rendimiento\n",
        "empleados = [\n",
        "    {\"nombre\": \"Carlos\", \"puntaje\": 85},\n",
        "    {\"nombre\": \"María\", \"puntaje\": 90},\n",
        "    {\"nombre\": \"Pedro\", \"puntaje\": 75},\n",
        "    {\"nombre\": \"Ana\", \"puntaje\": 95}\n",
        "]\n",
        "\n",
        "# Definir una función para calcular la bonificación\n",
        "def calcular_bonificacion(puntaje):\n",
        "    if puntaje >= 90:\n",
        "        return 1000  # Bono en miles de pesos\n",
        "    elif puntaje >= 80:\n",
        "        return 500\n",
        "    else:\n",
        "        return 300\n",
        "\n",
        "# Crear un archivo CSV con el resultado\n",
        "with open('bonificaciones.csv', mode='w', newline='') as archivo:\n",
        "    escritor = csv.writer(archivo)\n",
        "    escritor.writerow([\"Nombre\", \"Puntaje\", \"Bonificación\"])\n",
        "    for empleado in empleados:\n",
        "        bonificacion = calcular_bonificacion(empleado[\"puntaje\"])\n",
        "        escritor.writerow([empleado[\"nombre\"], empleado[\"puntaje\"], bonificacion])\n",
        "\n",
        "print(\"Archivo CSV 'bonificaciones.csv' generado exitosamente.\")\n"
      ],
      "metadata": {
        "colab": {
          "base_uri": "https://localhost:8080/"
        },
        "id": "PZwnxg21cHav",
        "outputId": "ad0897e0-afce-4b0e-e368-35bd2ae0f4e6"
      },
      "execution_count": null,
      "outputs": [
        {
          "output_type": "stream",
          "name": "stdout",
          "text": [
            "Archivo CSV 'bonificaciones.csv' generado exitosamente.\n"
          ]
        }
      ]
    },
    {
      "cell_type": "code",
      "source": [
        "import csv\n",
        "\n",
        "with open('presupuestos.csv', mode='r') as archivo:\n",
        "    lector = csv.reader(archivo)\n",
        "    next(lector)  # Skip the header row\n",
        "    presupuestos_filtrados = [fila for fila in lector if int(fila[1]) > 1000]  # Filtrar presupuestos mayores a 1000 millones\n",
        "\n",
        "# Guardar los presupuestos filtrados en un nuevo archivo CSV\n",
        "with open('presupuestos_filtrados.csv', mode='w', newline='') as archivo_filtrado:\n",
        "    escritor = csv.writer(archivo_filtrado)\n",
        "    escritor.writerow([\"Unidad\", \"Presupuesto\"])\n",
        "    escritor.writerows(presupuestos_filtrados)\n"
      ],
      "metadata": {
        "id": "wLjyWRo8eSfL"
      },
      "execution_count": 48,
      "outputs": []
    },
    {
      "cell_type": "code",
      "source": [
        "# Datos de ingresos y egresos por área (en millones de pesos chilenos)\n",
        "indicadores_financieros = {\n",
        "    \"Área 1\": {\"ingresos\": 5000, \"egresos\": 4800},\n",
        "    \"Área 2\": {\"ingresos\": 3000, \"egresos\": 3500},\n",
        "    \"Área 3\": {\"ingresos\": 7000, \"egresos\": 6500}\n",
        "}\n",
        "\n",
        "# Calcular déficit o superávit\n",
        "resultados = {}\n",
        "for area, datos in indicadores_financieros.items():\n",
        "    balance = datos[\"ingresos\"] - datos[\"egresos\"]\n",
        "    if balance > 0:\n",
        "        resultados[area] = f\"Superávit de {balance} millones\"\n",
        "    else:\n",
        "        resultados[area] = f\"Déficit de {abs(balance)} millones\"\n",
        "\n",
        "# Mostrar resultados\n",
        "for area, resultado in resultados.items():\n",
        "    print(f\"{area}: {resultado}\")\n"
      ],
      "metadata": {
        "colab": {
          "base_uri": "https://localhost:8080/"
        },
        "id": "maWRutkSiioa",
        "outputId": "9ee59e21-d187-4793-eada-e7345d4d1c83"
      },
      "execution_count": 49,
      "outputs": [
        {
          "output_type": "stream",
          "name": "stdout",
          "text": [
            "Área 1: Superávit de 200 millones\n",
            "Área 2: Déficit de 500 millones\n",
            "Área 3: Superávit de 500 millones\n"
          ]
        }
      ]
    },
    {
      "cell_type": "markdown",
      "source": [],
      "metadata": {
        "id": "7hrxOkdShtRz"
      }
    }
  ]
}